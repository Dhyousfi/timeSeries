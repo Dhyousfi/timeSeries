{
 "cells": [
  {
   "cell_type": "markdown",
   "metadata": {},
   "source": [
    "<div><img src=\"logo.jpg\", width=150, ALIGN=\"left\", border=20></div>\n",
    "<center>\n",
    "<h1>Time Series Challenge Starting Kit</h1>\n",
    "<br>This code was tested with <br>\n",
    "Python Anaconda Python 3.6\n",
    "</center>\n",
    "<p><br>\n",
    "ALL INFORMATION, SOFTWARE, DOCUMENTATION, AND DATA ARE PROVIDED \"AS-IS\". The UPSud, AND/OR OTHER ORGANIZERS OR CODE AUTHORS DISCLAIM ANY EXPRESSED OR IMPLIED WARRANTIES, INCLUDING, BUT NOT LIMITED TO, THE IMPLIED WARRANTIES OF MERCHANTABILITY AND FITNESS FOR ANY PARTICULAR PURPOSE, AND THE WARRANTY OF NON-INFRIGEMENT OF ANY THIRD PARTY'S INTELLECTUAL PROPERTY RIGHTS. IN NO EVENT SHALL AUTHORS AND ORGANIZERS BE LIABLE FOR ANY SPECIAL INDIRECT OR CONSEQUENTIAL DAMAGES OR ANY DAMAGES WHATSOEVER ARISING OUT OF OR IN CONNECTION WITH THE USE OR PERFORMANCE OF SOFTWARE, DOCUMENTS, MATERIALS, PUBLICATIONS, OR INFORMATION MADE AVAILABLE FOR THE CHALLENGE.\n"
   ]
  },
  {
   "cell_type": "code",
   "execution_count": 1,
   "metadata": {},
   "outputs": [],
   "source": [
    "%matplotlib inline\n",
    "%load_ext autoreload\n",
    "%autoreload 2\n",
    "model_dir = 'sample_code_submission/'  # Change the model to a better of your own design!\n",
    "result_dir = 'sample_results/' \n",
    "problem_dir = 'ingestion_program/'  \n",
    "score_dir = 'scoring_program/'\n",
    "data_dir = 'sample_data'\n",
    "from sys import path; path.append(model_dir); path.append(problem_dir); path.append(score_dir); \n",
    "from os.path import join\n",
    "import numpy as np"
   ]
  },
  {
   "cell_type": "markdown",
   "metadata": {},
   "source": [
    "## Locating the sample data\n",
    "Data are formatted in this example like on the Codalab server (where your code submission is evaluated) in two subdirectories \"training\" and \"evaluation\". "
   ]
  },
  {
   "cell_type": "code",
   "execution_count": 2,
   "metadata": {},
   "outputs": [
    {
     "name": "stdout",
     "output_type": "stream",
     "text": [
      "sample_data/metadata                sample_data/sample_data_license.txt\r\n",
      "\r\n",
      "sample_data/evaluation:\r\n",
      "evaluation0.csv evaluation1.csv\r\n",
      "\r\n",
      "sample_data/training:\r\n",
      "training0.csv training1.csv training2.csv\r\n"
     ]
    }
   ],
   "source": [
    "!ls $data_dir*/*"
   ]
  },
  {
   "cell_type": "markdown",
   "metadata": {},
   "source": [
    "## Understanding the DataManager object\n",
    "The DataManager class allows you to painlessly load and explaore your data."
   ]
  },
  {
   "cell_type": "markdown",
   "metadata": {},
   "source": [
    "### Load training data and evaluation data"
   ]
  },
  {
   "cell_type": "code",
   "execution_count": 3,
   "metadata": {},
   "outputs": [
    {
     "name": "stdout",
     "output_type": "stream",
     "text": [
      "DataManager :: Version = 1\n",
      "DataManager :: ========= Reading training data from sample_data\n",
      "DataManager :: ========= Load data from files:\n",
      "['sample_data/training/training0.csv', 'sample_data/training/training1.csv', 'sample_data/training/training2.csv']\n",
      "['sample_data/evaluation/evaluation0.csv', 'sample_data/evaluation/evaluation1.csv']\n",
      "[+] Success, loaded 38 samples in  0.01 sec\n"
     ]
    },
    {
     "data": {
      "text/plain": [
       "True"
      ]
     },
     "execution_count": 3,
     "metadata": {},
     "output_type": "execute_result"
    }
   ],
   "source": [
    "from data_manager import DataManager \n",
    "\n",
    "Din = DataManager(datatype=\"input\", verbose=True) \n",
    "Din.loadData(data_dir)"
   ]
  },
  {
   "cell_type": "markdown",
   "metadata": {},
   "source": [
    "Din contains several attributes: \n",
    "    - X: ndarray representing an array of feature vectors (frames).\n",
    "    - t: ndarray representing the time index (a positive integer).\n",
    "This command just loaded a single sequence of 38 time steps. Frames have 5 dimensions in this example."
   ]
  },
  {
   "cell_type": "code",
   "execution_count": 4,
   "metadata": {},
   "outputs": [
    {
     "name": "stdout",
     "output_type": "stream",
     "text": [
      "<class 'numpy.ndarray'> (38, 5)\n",
      "<class 'numpy.ndarray'> (38,)\n"
     ]
    }
   ],
   "source": [
    "print(type(Din.X), Din.X.shape)\n",
    "print(type(Din.t), Din.t.shape)"
   ]
  },
  {
   "cell_type": "markdown",
   "metadata": {},
   "source": [
    "Other data members include:\n",
    "    - t0: the index of the first evaluation frame.\n",
    "    - ycol0: the index of the first variable in a frame this must be  predicted (only the last few variables must  be predicted).\n",
    "    - stride: steps made until the next prediction is requested.\n",
    "    - horizon: number of frames in the future that must be predicted.\n",
    "You can inspect the data with a simple print statement:"
   ]
  },
  {
   "cell_type": "code",
   "execution_count": 5,
   "metadata": {},
   "outputs": [
    {
     "name": "stdout",
     "output_type": "stream",
     "text": [
      "DataManager :: ========= Info =========\n",
      "Version = 1\n",
      "Data type = input\n",
      "Stride = 1\n",
      "Horizon = 7\n",
      "Num training samples = 24\n",
      "Num evaluation samples = 14\n",
      "Num input variables = 5\n",
      "Input variables = ('X1', 'X2', 'X3', 'Y1', 'Y2')\n",
      "Num output variables = 2\n",
      "Output variables = ('Y1', 'Y2')\n",
      "\n"
     ]
    }
   ],
   "source": [
    "print(Din)"
   ]
  },
  {
   "cell_type": "markdown",
   "metadata": {},
   "source": [
    "## Visualizing data\n",
    "We provide a simple method to show a heat map of your data."
   ]
  },
  {
   "cell_type": "code",
   "execution_count": 6,
   "metadata": {},
   "outputs": [
    {
     "data": {
      "image/png": "[encoded data removed]",
      "text/plain": [
       "<Figure size 1440x1080 with 2 Axes>"
      ]
     },
     "metadata": {},
     "output_type": "display_data"
    }
   ],
   "source": [
    "Din.show(transpose=False) "
   ]
  },
  {
   "cell_type": "markdown",
   "metadata": {},
   "source": [
    "## Making predictions\n",
    "You can also use the class DataManager to store your predictions:"
   ]
  },
  {
   "cell_type": "code",
   "execution_count": 7,
   "metadata": {},
   "outputs": [
    {
     "name": "stdout",
     "output_type": "stream",
     "text": [
      "DataManager :: Version = 1\n"
     ]
    }
   ],
   "source": [
    "Dout = DataManager(datatype=\"output\", verbose=True)\n",
    "Dout.col_names = Din.col_names[Din.ycol0:]\n",
    "Dout.horizon = Din.horizon\n",
    "Dout.stride = Din.horizon "
   ]
  },
  {
   "cell_type": "markdown",
   "metadata": {},
   "source": [
    "Then instanciate your Model (recall, this is what you need to modify):"
   ]
  },
  {
   "cell_type": "code",
   "execution_count": 8,
   "metadata": {},
   "outputs": [],
   "source": [
    "from model import Model\n",
    "M = Model()\n",
    "?? Model"
   ]
  },
  {
   "cell_type": "markdown",
   "metadata": {},
   "source": [
    "To make predictions, loop over data samples:"
   ]
  },
  {
   "cell_type": "code",
   "execution_count": 9,
   "metadata": {},
   "outputs": [
    {
     "name": "stdout",
     "output_type": "stream",
     "text": [
      "DataManager :: ========= Appending 7 frame(s)\n",
      "DataManager :: ========= Appending 7 frame(s)\n",
      "DataManager :: ========= Appending 7 frame(s)\n",
      "DataManager :: ========= Appending 7 frame(s)\n",
      "DataManager :: ========= Appending 7 frame(s)\n",
      "DataManager :: ========= Appending 7 frame(s)\n",
      "DataManager :: ========= Appending 7 frame(s)\n",
      "DataManager :: ========= Appending 7 frame(s)\n",
      "DataManager :: ========= Appending 6 frame(s)\n",
      "DataManager :: ========= Appending 5 frame(s)\n",
      "DataManager :: ========= Appending 4 frame(s)\n",
      "DataManager :: ========= Appending 3 frame(s)\n",
      "DataManager :: ========= Appending 2 frame(s)\n",
      "DataManager :: ========= Appending 1 frame(s)\n"
     ]
    }
   ],
   "source": [
    "X, tx = Din.getHistoricalData()\n",
    "ty = Din.t[Din.now-Din.stride:Din.now-Din.stride+Din.horizon] \n",
    "while ty.shape[0]!=0:\n",
    "    M.train(X, tx) \n",
    "    Y = M.predict(X, num_predicted_frames=Din.horizon, ycol0=Din.ycol0)\n",
    "    Y = Y[:len(ty),:] # Clip predictions\n",
    "    Dout.appendData(Y, ty) \n",
    "    X, tx = Din.getHistoricalData()\n",
    "    ty = Din.t[Din.now-Din.stride:Din.now-Din.stride+Din.horizon]  "
   ]
  },
  {
   "cell_type": "markdown",
   "metadata": {},
   "source": [
    "Notice that when we reach the end of the evaluation data, the data manager knows to reduce the horizon to the number of ground truth values known in the future. You can now view your predictions (the persistence model is provided as example):"
   ]
  },
  {
   "cell_type": "code",
   "execution_count": 10,
   "metadata": {},
   "outputs": [
    {
     "name": "stdout",
     "output_type": "stream",
     "text": [
      "DataManager :: ========= Info =========\n",
      "Version = 1\n",
      "Data type = output\n",
      "Stride = 7\n",
      "Horizon = 7\n",
      "Num training samples = 0\n",
      "Num evaluation samples = 77\n",
      "Num input variables = 2\n",
      "Input variables = ('Y1', 'Y2')\n",
      "Num output variables = 2\n",
      "Output variables = ('Y1', 'Y2')\n",
      "\n"
     ]
    },
    {
     "data": {
      "image/png": "[encoded data removed]",
      "text/plain": [
       "<Figure size 1440x1080 with 2 Axes>"
      ]
     },
     "metadata": {},
     "output_type": "display_data"
    }
   ],
   "source": [
    "print(Dout)\n",
    "Dout.show(transpose=False)"
   ]
  },
  {
   "cell_type": "markdown",
   "metadata": {},
   "source": [
    "## Computing performance\n",
    "Prediction accuracy is computed using the mean square error (MSE). You can run the scoring program that evaluates your predictions."
   ]
  },
  {
   "cell_type": "code",
   "execution_count": 11,
   "metadata": {},
   "outputs": [
    {
     "name": "stdout",
     "output_type": "stream",
     "text": [
      "======= Step 0: =0.963250000000 =======\n",
      "======= Step 1: =1.148292857143 =======\n",
      "======= Step 2: =1.142950000000 =======\n",
      "======= Step 3: =0.757057142857 =======\n",
      "======= Step 4: =1.356564285714 =======\n",
      "======= Step 5: =1.087742857143 =======\n",
      "======= Step 6: =0.646321428571 =======\n",
      "======= Step 7: =1.525471428571 =======\n",
      "======= Step 8: =0.793916666667 =======\n",
      "======= Step 9: =0.695400000000 =======\n",
      "======= Step 10: =2.065462500000 =======\n",
      "======= Step 11: =0.989600000000 =======\n",
      "======= Step 12: =0.206175000000 =======\n",
      "======= Step 13: =2.434100000000 =======\n",
      "*** prediction_score = 1.129450297619 ***\n"
     ]
    }
   ],
   "source": [
    "from metric import scoring_function\n",
    "# Rewind the data managers\n",
    "Din.resetTime() \n",
    "Dout.resetTime()\n",
    "max_steps = Din.t.shape[0]-Din.t0\n",
    "score = np.zeros(max_steps)\n",
    "for step_num in range(max_steps): \n",
    "    Xsol, tsol = Din.getFutureOutcome()\n",
    "    # Get next predictions for the given horizon\n",
    "    Xpred, tpred = Dout.getPredictions() \n",
    "    score[step_num] = scoring_function(Xsol, Xpred)\n",
    "    print(\"======= Step {}: ={:0.12f} =======\".format(step_num, score[step_num]) )       \n",
    "prediction_score = np.mean(score)\n",
    "print(\"*** prediction_score = {:0.12f} ***\".format(prediction_score))"
   ]
  },
  {
   "cell_type": "markdown",
   "metadata": {},
   "source": [
    "# Prepare your Submission\n",
    "\n",
    "## Unit testing\n",
    "It is <b><span style=\"color:red\">important that you test your submission files before submitting them</span></b>. All you have to do to make a submission is modify the file <code>model.py</code> in the <code>sample_code/</code> directory, then run this test to make sure everything works fine. "
   ]
  },
  {
   "cell_type": "code",
   "execution_count": 12,
   "metadata": {},
   "outputs": [
    {
     "name": "stdout",
     "output_type": "stream",
     "text": [
      "Using input_dir: /Users/isabelleguyon/Documents/Projects/ParisSaclay/Funding/paris-region/Industrial_challenges/SNCF/starting_kit/sample_data\n",
      "Using output_dir: /Users/isabelleguyon/Documents/Projects/ParisSaclay/Funding/paris-region/Industrial_challenges/SNCF/starting_kit/sample_results\n",
      "Using program_dir: /Users/isabelleguyon/Documents/Projects/ParisSaclay/Funding/paris-region/Industrial_challenges/SNCF/starting_kit/ingestion_program\n",
      "Using submission_dir: /Users/isabelleguyon/Documents/Projects/ParisSaclay/Funding/paris-region/Industrial_challenges/SNCF/starting_kit/sample_code_submission\n",
      "\n",
      "========== Ingestion program version 1 ==========\n",
      "\n",
      "****************************************************\n",
      "******** Processing spatio-temporal dataset ********\n",
      "****************************************************\n",
      "========= Reading and converting data ==========\n",
      "DataManager :: Version = 1\n",
      "DataManager :: ========= Reading training data from /Users/isabelleguyon/Documents/Projects/ParisSaclay/Funding/paris-region/Industrial_challenges/SNCF/starting_kit/sample_data\n",
      "DataManager :: ========= Load data from files:\n",
      "['/Users/isabelleguyon/Documents/Projects/ParisSaclay/Funding/paris-region/Industrial_challenges/SNCF/starting_kit/sample_data/training/training0.csv', '/Users/isabelleguyon/Documents/Projects/ParisSaclay/Funding/paris-region/Industrial_challenges/SNCF/starting_kit/sample_data/training/training1.csv', '/Users/isabelleguyon/Documents/Projects/ParisSaclay/Funding/paris-region/Industrial_challenges/SNCF/starting_kit/sample_data/training/training2.csv']\n",
      "['/Users/isabelleguyon/Documents/Projects/ParisSaclay/Funding/paris-region/Industrial_challenges/SNCF/starting_kit/sample_data/evaluation/evaluation0.csv', '/Users/isabelleguyon/Documents/Projects/ParisSaclay/Funding/paris-region/Industrial_challenges/SNCF/starting_kit/sample_data/evaluation/evaluation1.csv']\n",
      "[+] Success, loaded 38 samples in  0.00 sec\n",
      "DataManager :: ========= Info =========\n",
      "Version = 1\n",
      "Data type = input\n",
      "Stride = 1\n",
      "Horizon = 7\n",
      "Num training samples = 24\n",
      "Num evaluation samples = 14\n",
      "Num input variables = 5\n",
      "Input variables = ('X1', 'X2', 'X3', 'Y1', 'Y2')\n",
      "Num output variables = 2\n",
      "Output variables = ('Y1', 'Y2')\n",
      "\n",
      "[+] Size of uploaded data  56.00 bytes\n",
      "DataManager :: Version = 1\n",
      "======== Creating model ==========\n",
      "======== Making predictions =====\n",
      "DataManager :: ========= Appending 7 frame(s)\n",
      "DataManager :: ========= Appending 7 frame(s)\n",
      "DataManager :: ========= Appending 7 frame(s)\n",
      "DataManager :: ========= Appending 7 frame(s)\n",
      "DataManager :: ========= Appending 7 frame(s)\n",
      "DataManager :: ========= Appending 7 frame(s)\n",
      "DataManager :: ========= Appending 7 frame(s)\n",
      "DataManager :: ========= Appending 7 frame(s)\n",
      "DataManager :: ========= Appending 6 frame(s)\n",
      "DataManager :: ========= Appending 5 frame(s)\n",
      "DataManager :: ========= Appending 4 frame(s)\n",
      "DataManager :: ========= Appending 3 frame(s)\n",
      "DataManager :: ========= Appending 2 frame(s)\n",
      "DataManager :: ========= Appending 1 frame(s)\n",
      "DataManager :: ========= Info =========\n",
      "Version = 1\n",
      "Data type = output\n",
      "Stride = 7\n",
      "Horizon = 7\n",
      "Num training samples = 0\n",
      "Num evaluation samples = 77\n",
      "Num input variables = 2\n",
      "Input variables = ('Y1', 'Y2')\n",
      "Num output variables = 2\n",
      "Output variables = ('Y1', 'Y2')\n",
      "\n",
      "[-] filename must end with pickle\n",
      "DataManager :: ========= Saving data to /Users/isabelleguyon/Documents/Projects/ParisSaclay/Funding/paris-region/Industrial_challenges/SNCF/starting_kit/sample_results/prediction.pickle\n",
      "DataManager :: Saving as pickle\n",
      "[+] Success in  0.00 sec\n",
      "[+] End process, time spend  0.86 sec\n"
     ]
    }
   ],
   "source": [
    "!python $problem_dir/ingestion.py $data_dir $result_dir $problem_dir $model_dir"
   ]
  },
  {
   "cell_type": "code",
   "execution_count": 13,
   "metadata": {},
   "outputs": [
    {
     "name": "stdout",
     "output_type": "stream",
     "text": [
      "========= Reading solution data ==========\r\n",
      "DataManager :: Version = 1\r\n",
      "DataManager :: ========= Reading training data from sample_data\r\n",
      "DataManager :: ========= Load data from files:\r\n",
      "['sample_data/training/training0.csv', 'sample_data/training/training1.csv', 'sample_data/training/training2.csv']\r\n",
      "['sample_data/evaluation/evaluation0.csv', 'sample_data/evaluation/evaluation1.csv']\r\n",
      "[+] Success, loaded 38 samples in  0.00 sec\r\n",
      "DataManager :: ========= Info =========\r\n",
      "Version = 1\r\n",
      "Data type = input\r\n",
      "Stride = 1\r\n",
      "Horizon = 7\r\n",
      "Num training samples = 24\r\n",
      "Num evaluation samples = 14\r\n",
      "Num input variables = 5\r\n",
      "Input variables = ('X1', 'X2', 'X3', 'Y1', 'Y2')\r\n",
      "Num output variables = 2\r\n",
      "Output variables = ('Y1', 'Y2')\r\n",
      "\r\n",
      "========= Reading prediction data ==========\r\n",
      "DataManager :: Version = 1\r\n",
      "DataManager :: ========= Attempting to reload data from sample_results/prediction.pickle\r\n",
      "[+] Success in  0.00 sec\r\n",
      "DataManager :: ========= Info =========\r\n",
      "Version = 1\r\n",
      "Data type = output\r\n",
      "Stride = 7\r\n",
      "Horizon = 7\r\n",
      "Num training samples = 0\r\n",
      "Num evaluation samples = 77\r\n",
      "Num input variables = 2\r\n",
      "Input variables = ('Y1', 'Y2')\r\n",
      "Num output variables = 2\r\n",
      "Output variables = ('Y1', 'Y2')\r\n",
      "\r\n",
      "step 0\r\n",
      "======= Step 0: mse=0.963250000000 =======\r\n",
      "step 1\r\n",
      "======= Step 1: mse=1.148292857143 =======\r\n",
      "step 2\r\n",
      "======= Step 2: mse=1.142950000000 =======\r\n",
      "step 3\r\n",
      "======= Step 3: mse=0.757057142857 =======\r\n",
      "step 4\r\n",
      "======= Step 4: mse=1.356564285714 =======\r\n",
      "step 5\r\n",
      "======= Step 5: mse=1.087742857143 =======\r\n",
      "step 6\r\n",
      "======= Step 6: mse=0.646321428571 =======\r\n",
      "step 7\r\n",
      "======= Step 7: mse=1.525471428571 =======\r\n",
      "step 8\r\n",
      "======= Step 8: mse=0.793916666667 =======\r\n",
      "step 9\r\n",
      "======= Step 9: mse=0.695400000000 =======\r\n",
      "step 10\r\n",
      "======= Step 10: mse=2.065462500000 =======\r\n",
      "step 11\r\n",
      "======= Step 11: mse=0.989600000000 =======\r\n",
      "step 12\r\n",
      "======= Step 12: mse=0.206175000000 =======\r\n",
      "step 13\r\n",
      "======= Step 13: mse=2.434100000000 =======\r\n",
      "*** prediction_score (average mse) = 1.129450297619 ***\r\n"
     ]
    }
   ],
   "source": [
    "scoring_output_dir = 'scoring_output'\n",
    "!python $score_dir/score.py $data_dir $result_dir $scoring_output_dir"
   ]
  },
  {
   "cell_type": "markdown",
   "metadata": {},
   "source": [
    "## Making your Submission\n",
    "\n",
    "Zip your code, NOT including the <span style=\"color:red\">sample_code/</span> directory, but including metadata."
   ]
  },
  {
   "cell_type": "code",
   "execution_count": 14,
   "metadata": {},
   "outputs": [
    {
     "name": "stdout",
     "output_type": "stream",
     "text": [
      "Submit file:\n",
      "../sample_code_submission_19-04-09-14-32.zip\n",
      "\n"
     ]
    }
   ],
   "source": [
    "import datetime \n",
    "from data_io import zipdir\n",
    "the_date = datetime.datetime.now().strftime(\"%y-%m-%d-%H-%M\")\n",
    "sample_code_submission = '../sample_code_submission_' + the_date + '.zip'\n",
    "zipdir(sample_code_submission, model_dir)\n",
    "print(\"Submit file:\\n\" + sample_code_submission + \"\\n\")"
   ]
  }
 ],
 "metadata": {
  "anaconda-cloud": {},
  "kernelspec": {
   "display_name": "Python (python37)",
   "language": "python",
   "name": "python37"
  },
  "language_info": {
   "codemirror_mode": {
    "name": "ipython",
    "version": 3
   },
   "file_extension": ".py",
   "mimetype": "text/x-python",
   "name": "python",
   "nbconvert_exporter": "python",
   "pygments_lexer": "ipython3",
   "version": "3.6.7"
  }
 },
 "nbformat": 4,
 "nbformat_minor": 2
}
